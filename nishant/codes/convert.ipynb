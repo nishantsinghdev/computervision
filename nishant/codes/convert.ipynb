{
 "cells": [
  {
   "cell_type": "code",
   "execution_count": 1,
   "metadata": {},
   "outputs": [],
   "source": [
    "import cv2\n",
    "import numpy as np\n",
    "\n",
    "import os\n",
    "# os.environ['TF_CPP_MIN_LOG_LEVEL'] = '2'\n",
    "\n",
    "from estimator import TfPoseEstimator\n",
    "from networks import get_graph_path, model_wh\n",
    "\n",
    "from random import shuffle\n",
    "from tqdm import tqdm"
   ]
  },
  {
   "cell_type": "code",
   "execution_count": 2,
   "metadata": {},
   "outputs": [
    {
     "data": {
      "text/plain": [
       "'/Users/nishant/Documents/Intern/GitLab Projects/computervision/tf-openpose/src'"
      ]
     },
     "execution_count": 2,
     "metadata": {},
     "output_type": "execute_result"
    }
   ],
   "source": [
    "os.getcwd()"
   ]
  },
  {
   "cell_type": "code",
   "execution_count": 3,
   "metadata": {},
   "outputs": [],
   "source": [
    "# old_path = os.path.dirname(os.path.abspath(__file__))\n",
    "old_path = os.getcwd()\n",
    "# MODEL = 'mobilenet_thin'\n",
    "# resolution = '432x368'\n",
    "# w, h = model_wh(resolution)"
   ]
  },
  {
   "cell_type": "code",
   "execution_count": 4,
   "metadata": {},
   "outputs": [],
   "source": [
    "# e = TfPoseEstimator(get_graph_path(MODEL), target_size=(w, h))\n",
    "# humans = e.inference(image)\n",
    "# blank_image = np.zeros((h,w,3), np.uint8)\n",
    "# image = TfPoseEstimator.draw_humans(blank_image, humans, imgcopy=False)"
   ]
  },
  {
   "cell_type": "code",
   "execution_count": 5,
   "metadata": {},
   "outputs": [],
   "source": [
    "# cv2.imshow('tf-pose-estimation result', image)\n",
    "# cv2.waitKey(0)\n",
    "# if cv2.waitKey(1) & 0xFF == ord('q'):\n",
    "#     cv2.destroyAllWindows()\n",
    "# cv2.imwrite('RESULT.jpg', image)"
   ]
  },
  {
   "cell_type": "code",
   "execution_count": 6,
   "metadata": {},
   "outputs": [
    {
     "data": {
      "text/plain": [
       "'/Users/nishant/Documents/Intern/GitLab Projects/computervision/tf-openpose/src'"
      ]
     },
     "execution_count": 6,
     "metadata": {},
     "output_type": "execute_result"
    }
   ],
   "source": [
    "pwd"
   ]
  },
  {
   "cell_type": "code",
   "execution_count": 7,
   "metadata": {},
   "outputs": [],
   "source": [
    "TRAIN_DIR = '/Users/nishant/DataSet/train/test_img'\n",
    "# TRAIN_SITTING_DIR = '/Users/nishant/DataSet/train/sitting'\n",
    "# TRAIN_STANDING_DIR = '/Users/nishant/DataSet/train/standing'\n",
    "# TRAIN_SLEEPING_DIR = '/Users/nishant/DataSet/train/sleeping'\n",
    "# TRAIN_UNKNOWN_DIR = '/Users/nishant/DataSet/train/unknown'\n",
    "TEST_DIR = '/Users/nishant/DataSet/test'\n",
    "\n",
    "LR=1e-3"
   ]
  },
  {
   "cell_type": "code",
   "execution_count": 8,
   "metadata": {},
   "outputs": [],
   "source": [
    "def label_img(img):\n",
    "    word_label = img.split('_')[0]\n",
    "  \n",
    "    if word_label == 'sitting': \n",
    "        return [1,0,0,0]\n",
    "    elif word_label == 'standing':\n",
    "        return [0,1,0,0]\n",
    "    else:\n",
    "        return [0,0,1,0]\n",
    "    \n",
    "#         return [0,0,0,1]\n",
    "#     elif word_label == 'sleeping':\n",
    "#         return [0,0,1,0]\n",
    "      "
   ]
  },
  {
   "cell_type": "code",
   "execution_count": 9,
   "metadata": {},
   "outputs": [],
   "source": [
    "def create_train_data():\n",
    "    training_data = []\n",
    "    for img in tqdm(os.listdir(TRAIN_DIR)):\n",
    "        label = label_img(img)\n",
    "        path = os.path.join(TRAIN_DIR,img)\n",
    "        # print(path)\n",
    "        img = cv2.imread(path,cv2.IMREAD_GRAYSCALE)\n",
    "        img = cv2.resize(img, (50,50))\n",
    "        training_data.append([np.array(img),np.array(label)])\n",
    "    shuffle(training_data)\n",
    "    #np.save('train_data.npy', training_data)\n",
    "    return training_data"
   ]
  },
  {
   "cell_type": "code",
   "execution_count": 10,
   "metadata": {},
   "outputs": [
    {
     "name": "stderr",
     "output_type": "stream",
     "text": [
      "100%|██████████| 120/120 [00:00<00:00, 1511.53it/s]\n"
     ]
    }
   ],
   "source": [
    "train_data= create_train_data()"
   ]
  },
  {
   "cell_type": "code",
   "execution_count": 11,
   "metadata": {},
   "outputs": [],
   "source": [
    "# import tensorflow as tf\n",
    "import tflearn\n",
    "\n",
    "from tflearn.layers.conv import conv_2d, max_pool_2d\n",
    "from tflearn.layers.core import input_data, dropout, fully_connected\n",
    "from tflearn.layers.estimator import regression"
   ]
  },
  {
   "cell_type": "code",
   "execution_count": 12,
   "metadata": {},
   "outputs": [
    {
     "name": "stdout",
     "output_type": "stream",
     "text": [
      "WARNING:tensorflow:From /anaconda/python.app/Contents/lib/python3.5/site-packages/tflearn/initializations.py:119: UniformUnitScaling.__init__ (from tensorflow.python.ops.init_ops) is deprecated and will be removed in a future version.\n",
      "Instructions for updating:\n",
      "Use tf.initializers.variance_scaling instead with distribution=uniform to get equivalent behavior.\n"
     ]
    }
   ],
   "source": [
    "convnet = input_data(shape=[None,50,50,1], name='input')\n",
    "\n",
    "convnet = conv_2d(convnet, 32, 5, activation='relu')\n",
    "convnet = max_pool_2d(convnet, 5)\n",
    "\n",
    "convnet = conv_2d(convnet, 64, 5, activation='relu')\n",
    "convnet = max_pool_2d(convnet, 5)\n",
    "\n",
    "convnet = fully_connected(convnet, 1024, activation='relu')\n",
    "convnet = dropout(convnet, 0.8)\n",
    "\n",
    "convnet = fully_connected(convnet,4, activation='linear')\n",
    "convnet = regression(convnet, optimizer='adam', learning_rate=LR, loss='categorical_crossentropy', name='targets')\n",
    "\n",
    "model = tflearn.DNN(convnet, tensorboard_dir='log')"
   ]
  },
  {
   "cell_type": "code",
   "execution_count": 13,
   "metadata": {},
   "outputs": [],
   "source": [
    "#os.chdir('..')\n",
    "#os.chdir('./models/graph/mobilenet_thin/')\n",
    "# cmu = './models/graph/cmu/graph_opt.pb'\n",
    "# mobilenet_thin = './models/graph/mobilenet_thin/graph_opt.pb'\n",
    "\n",
    "#if os.path.exists('{}.pb'. format(MODEL)):\n",
    " #   model.load(MODEL)\n",
    "    #print('model loaded!')\n",
    "#os.chdir(old_path)"
   ]
  },
  {
   "cell_type": "code",
   "execution_count": 14,
   "metadata": {},
   "outputs": [],
   "source": [
    "train = train_data[:-5]\n",
    "test = train_data[-5:]"
   ]
  },
  {
   "cell_type": "code",
   "execution_count": 15,
   "metadata": {},
   "outputs": [],
   "source": [
    "# np.shape(test_x)"
   ]
  },
  {
   "cell_type": "code",
   "execution_count": 16,
   "metadata": {},
   "outputs": [],
   "source": [
    "X = np.array([i[0] for i in train]).reshape(-1,50,50,1)\n",
    "Y = [i[1] for i in train]\n",
    "\n",
    "test_x = np.array([i[0] for i in test]).reshape(-1,50,50,1)\n",
    "test_y = [i[1] for i in test]\n"
   ]
  },
  {
   "cell_type": "code",
   "execution_count": 17,
   "metadata": {},
   "outputs": [
    {
     "name": "stdout",
     "output_type": "stream",
     "text": [
      "Training Step: 5  | total loss: \u001b[1m\u001b[32m14.50120\u001b[0m\u001b[0m | time: 0.158s\n",
      "| Adam | epoch: 003 | loss: 14.50120 - acc: 0.6258 -- iter: 064/115\n",
      "Training Step: 6  | total loss: \u001b[1m\u001b[32m13.88626\u001b[0m\u001b[0m | time: 1.326s\n",
      "| Adam | epoch: 003 | loss: 13.88626 - acc: 0.6017 | val_loss: 9.21034 - val_acc: 0.4000 -- iter: 115/115\n",
      "--\n"
     ]
    }
   ],
   "source": [
    "model.fit({'input': X}, {'targets': Y}, n_epoch=3, validation_set=({'input': test_x}, {'targets': test_y}), \n",
    "    snapshot_step=20, show_metric=True) #, run_id=model)"
   ]
  },
  {
   "cell_type": "code",
   "execution_count": null,
   "metadata": {},
   "outputs": [],
   "source": []
  },
  {
   "cell_type": "code",
   "execution_count": null,
   "metadata": {},
   "outputs": [],
   "source": []
  }
 ],
 "metadata": {
  "kernelspec": {
   "display_name": "Python 3",
   "language": "python",
   "name": "python3"
  },
  "language_info": {
   "codemirror_mode": {
    "name": "ipython",
    "version": 3
   },
   "file_extension": ".py",
   "mimetype": "text/x-python",
   "name": "python",
   "nbconvert_exporter": "python",
   "pygments_lexer": "ipython3",
   "version": "3.5.4"
  }
 },
 "nbformat": 4,
 "nbformat_minor": 2
}
