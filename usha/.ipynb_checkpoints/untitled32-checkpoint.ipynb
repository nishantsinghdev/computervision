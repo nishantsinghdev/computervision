{
 "cells": [
  {
   "cell_type": "code",
   "execution_count": 1,
   "metadata": {
    "collapsed": false,
    "deletable": true,
    "editable": true
   },
   "outputs": [],
   "source": [
    "import cv2\n",
    "import os\n",
    "vidcap = cv2.VideoCapture('ATM fraud pvg.avi.mp4')\n",
    "success,image = vidcap.read()\n",
    "count = 0\n",
    "success = True\n",
    "path = 'G:\\\\tmp\\\\cv\\\\test\\\\'\n",
    "while success:\n",
    "    success,image = vidcap.read()\n",
    "    name='frame'+str(count)\n",
    "    name=name+'.jpg'\n",
    "    path1=os.path.join(path , name)\n",
    "    #print(str(path1))\n",
    "    cv2.imwrite(str(path1), image)     # save frame as JPEG file\n",
    "    count += 1\n",
    "    if cv2.waitKey(10) == 27:                     # exit if Escape is hit\n",
    "        break\n",
    "        count += 1"
   ]
  },
  {
   "cell_type": "code",
   "execution_count": null,
   "metadata": {
    "collapsed": true,
    "deletable": true,
    "editable": true
   },
   "outputs": [],
   "source": []
  }
 ],
 "metadata": {
  "kernelspec": {
   "display_name": "Python 3",
   "language": "python",
   "name": "python3"
  },
  "language_info": {
   "codemirror_mode": {
    "name": "ipython",
    "version": 3
   },
   "file_extension": ".py",
   "mimetype": "text/x-python",
   "name": "python",
   "nbconvert_exporter": "python",
   "pygments_lexer": "ipython3",
   "version": "3.5.2"
  }
 },
 "nbformat": 4,
 "nbformat_minor": 2
}
