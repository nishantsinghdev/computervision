{
 "cells": [
  {
   "cell_type": "code",
   "execution_count": 1,
   "metadata": {
    "collapsed": true
   },
   "outputs": [],
   "source": [
    "import cv2\n",
    "import numpy as np\n",
    "import os\n",
    "\n",
    "from random import shuffle\n",
    "from tqdm import tqdm"
   ]
  },
  {
   "cell_type": "code",
   "execution_count": 2,
   "metadata": {},
   "outputs": [
    {
     "data": {
      "text/plain": [
       "'C:\\\\Users\\\\Usha\\\\Documents\\\\GitHub\\\\computervision'"
      ]
     },
     "execution_count": 2,
     "metadata": {},
     "output_type": "execute_result"
    }
   ],
   "source": [
    "pwd"
   ]
  },
  {
   "cell_type": "code",
   "execution_count": 11,
   "metadata": {
    "collapsed": true
   },
   "outputs": [],
   "source": [
    "TRAIN_DIR='C:\\\\Users\\\\Usha\\\\Desktop\\\\images\\\\train'\n",
    "TEST_DIR='C:\\\\Users\\\\Usha\\\\Desktop\\\\images\\\\test'"
   ]
  },
  {
   "cell_type": "code",
   "execution_count": 12,
   "metadata": {
    "collapsed": true
   },
   "outputs": [],
   "source": [
    "IMG_SIZE=50\n",
    "LR=1e-3"
   ]
  },
  {
   "cell_type": "code",
   "execution_count": 13,
   "metadata": {
    "collapsed": true
   },
   "outputs": [],
   "source": [
    "MODEL_NAME = 'peoplecount-{}-{}.model'.format(LR, '2conv-basic')"
   ]
  },
  {
   "cell_type": "code",
   "execution_count": 14,
   "metadata": {
    "collapsed": true
   },
   "outputs": [],
   "source": [
    "def label_img(img):\n",
    "    word_label = img.split('.')[0]\n",
    "  \n",
    "    if word_label == 'no': \n",
    "        return [1,0,0,0]\n",
    "    elif word_label == 'one':\n",
    "        return [0,1,0,0]\n",
    "    elif word_label == 'two':\n",
    "        return [0,0,1,0]\n",
    "    elif word_label == 'three':\n",
    "        return [0,0,0,1]\n",
    "      "
   ]
  },
  {
   "cell_type": "code",
   "execution_count": 15,
   "metadata": {
    "collapsed": true
   },
   "outputs": [],
   "source": [
    "def create_train_data():\n",
    "    training_data = []\n",
    "    for img in tqdm(os.listdir(TRAIN_DIR)):\n",
    "        label = label_img(img)\n",
    "        path = os.path.join(TRAIN_DIR,img)\n",
    "        img = cv2.imread(path,cv2.IMREAD_GRAYSCALE)\n",
    "        #img = cv2.imread(path)\n",
    "        img = cv2.resize(img, (IMG_SIZE,IMG_SIZE))\n",
    "        training_data.append([np.array(img),np.array(label)])\n",
    "    shuffle(training_data)\n",
    "    np.save('train_data.npy', training_data)\n",
    "    return training_data"
   ]
  },
  {
   "cell_type": "code",
   "execution_count": 16,
   "metadata": {
    "collapsed": true
   },
   "outputs": [],
   "source": [
    "def process_test_data():\n",
    "    testing_data = []\n",
    "    for img in tqdm(os.listdir(TEST_DIR)):\n",
    "        #label = label_img(img)\n",
    "        path = os.path.join(TEST_DIR,img)\n",
    "        img_num = img.split('.')[0]\n",
    "        img = cv2.imread(path,cv2.IMREAD_GRAYSCALE)\n",
    "        #img = cv2.imread(path)\n",
    "        img = cv2.resize(img, (IMG_SIZE,IMG_SIZE))\n",
    "        testing_data.append([np.array(img)])\n",
    "        \n",
    "    shuffle(testing_data)\n",
    "    np.save('test_data.npy', testing_data)\n",
    "    return testing_data"
   ]
  },
  {
   "cell_type": "code",
   "execution_count": 17,
   "metadata": {},
   "outputs": [
    {
     "name": "stderr",
     "output_type": "stream",
     "text": [
      "100%|████████████████████████████████████████| 385/385 [00:13<00:00, 27.77it/s]\n"
     ]
    }
   ],
   "source": [
    "train_data= create_train_data()"
   ]
  },
  {
   "cell_type": "code",
   "execution_count": 18,
   "metadata": {
    "scrolled": true
   },
   "outputs": [],
   "source": [
    "import tensorflow as tf\n",
    "import tflearn"
   ]
  },
  {
   "cell_type": "code",
   "execution_count": 19,
   "metadata": {},
   "outputs": [
    {
     "name": "stdout",
     "output_type": "stream",
     "text": [
      "WARNING:tensorflow:From C:\\Users\\Usha\\Anaconda3\\pyton\\lib\\site-packages\\tflearn\\initializations.py:119: UniformUnitScaling.__init__ (from tensorflow.python.ops.init_ops) is deprecated and will be removed in a future version.\n",
      "Instructions for updating:\n",
      "Use tf.initializers.variance_scaling instead with distribution=uniform to get equivalent behavior.\n",
      "WARNING:tensorflow:From C:\\Users\\Usha\\Anaconda3\\pyton\\lib\\site-packages\\tflearn\\objectives.py:66: calling reduce_sum (from tensorflow.python.ops.math_ops) with keep_dims is deprecated and will be removed in a future version.\n",
      "Instructions for updating:\n",
      "keep_dims is deprecated, use keepdims instead\n"
     ]
    }
   ],
   "source": [
    "from tflearn.layers.conv import conv_2d, max_pool_2d\n",
    "from tflearn.layers.core import input_data, dropout, fully_connected\n",
    "from tflearn.layers.estimator import regression\n",
    "\n",
    "\n",
    "\n",
    "\n",
    "\n",
    "\n",
    "convnet = input_data(shape=[None, IMG_SIZE, IMG_SIZE, 1], name='input')\n",
    "\n",
    "convnet = conv_2d(convnet, 32, 5, activation='relu')\n",
    "convnet = max_pool_2d(convnet, 5)\n",
    "\n",
    "convnet = conv_2d(convnet, 64, 5, activation='relu')\n",
    "convnet = max_pool_2d(convnet, 5)\n",
    "\n",
    "convnet = conv_2d(convnet, 128, 5, activation='relu')\n",
    "convnet = max_pool_2d(convnet, 5)\n",
    "\n",
    "convnet = conv_2d(convnet, 64, 5, activation='relu')\n",
    "convnet = max_pool_2d(convnet, 5)\n",
    "\n",
    "convnet = conv_2d(convnet, 32, 5, activation='relu')\n",
    "convnet = max_pool_2d(convnet, 5)\n",
    "\n",
    "convnet = fully_connected(convnet, 1024, activation='relu')\n",
    "convnet = dropout(convnet, 0.8)\n",
    "\n",
    "convnet = fully_connected(convnet, 4, activation='softmax')\n",
    "convnet = regression(convnet, optimizer='adam', learning_rate=LR, loss='categorical_crossentropy', name='targets')\n",
    "\n",
    "model = tflearn.DNN(convnet, tensorboard_dir='log')\n",
    "\n"
   ]
  },
  {
   "cell_type": "code",
   "execution_count": 20,
   "metadata": {},
   "outputs": [],
   "source": [
    "if os.path.exists('{}.meta'.format(MODEL_NAME)):\n",
    "    model.load(MODEL_NAME)\n",
    "    print('model loaded!')\n"
   ]
  },
  {
   "cell_type": "code",
   "execution_count": 21,
   "metadata": {},
   "outputs": [],
   "source": [
    "train = train_data[:-5]\n",
    "test =train_data[-5:]\n",
    "#train = train_data\n",
    "#test = process_test_data()"
   ]
  },
  {
   "cell_type": "code",
   "execution_count": 22,
   "metadata": {},
   "outputs": [],
   "source": [
    "\n",
    "\n",
    "X = np.array([i[0] for i in train]).reshape(-1,50,50,1)\n",
    "Y = [i[1] for i in train]\n",
    "\n",
    "test_x = np.array([i[0] for i in test]).reshape(-1,50,50,1)\n",
    "test_y = [i[1] for i in test]\n",
    "\n"
   ]
  },
  {
   "cell_type": "code",
   "execution_count": 23,
   "metadata": {},
   "outputs": [
    {
     "data": {
      "text/plain": [
       "array([[[[205],\n",
       "         [206],\n",
       "         [209],\n",
       "         ...,\n",
       "         [179],\n",
       "         [181],\n",
       "         [176]],\n",
       "\n",
       "        [[206],\n",
       "         [206],\n",
       "         [206],\n",
       "         ...,\n",
       "         [168],\n",
       "         [180],\n",
       "         [179]],\n",
       "\n",
       "        [[205],\n",
       "         [206],\n",
       "         [206],\n",
       "         ...,\n",
       "         [181],\n",
       "         [177],\n",
       "         [179]],\n",
       "\n",
       "        ...,\n",
       "\n",
       "        [[220],\n",
       "         [220],\n",
       "         [221],\n",
       "         ...,\n",
       "         [150],\n",
       "         [153],\n",
       "         [153]],\n",
       "\n",
       "        [[221],\n",
       "         [222],\n",
       "         [220],\n",
       "         ...,\n",
       "         [152],\n",
       "         [149],\n",
       "         [151]],\n",
       "\n",
       "        [[220],\n",
       "         [222],\n",
       "         [222],\n",
       "         ...,\n",
       "         [152],\n",
       "         [150],\n",
       "         [144]]],\n",
       "\n",
       "\n",
       "       [[[ 72],\n",
       "         [255],\n",
       "         [105],\n",
       "         ...,\n",
       "         [152],\n",
       "         [ 78],\n",
       "         [147]],\n",
       "\n",
       "        [[ 58],\n",
       "         [120],\n",
       "         [ 96],\n",
       "         ...,\n",
       "         [157],\n",
       "         [ 76],\n",
       "         [150]],\n",
       "\n",
       "        [[ 57],\n",
       "         [137],\n",
       "         [ 92],\n",
       "         ...,\n",
       "         [167],\n",
       "         [ 78],\n",
       "         [153]],\n",
       "\n",
       "        ...,\n",
       "\n",
       "        [[109],\n",
       "         [  5],\n",
       "         [  2],\n",
       "         ...,\n",
       "         [ 79],\n",
       "         [ 87],\n",
       "         [ 49]],\n",
       "\n",
       "        [[108],\n",
       "         [ 40],\n",
       "         [ 42],\n",
       "         ...,\n",
       "         [ 84],\n",
       "         [ 74],\n",
       "         [ 45]],\n",
       "\n",
       "        [[219],\n",
       "         [ 43],\n",
       "         [ 45],\n",
       "         ...,\n",
       "         [ 76],\n",
       "         [ 62],\n",
       "         [ 34]]],\n",
       "\n",
       "\n",
       "       [[[ 71],\n",
       "         [ 29],\n",
       "         [166],\n",
       "         ...,\n",
       "         [101],\n",
       "         [107],\n",
       "         [ 45]],\n",
       "\n",
       "        [[ 61],\n",
       "         [173],\n",
       "         [167],\n",
       "         ...,\n",
       "         [114],\n",
       "         [146],\n",
       "         [ 52]],\n",
       "\n",
       "        [[ 78],\n",
       "         [165],\n",
       "         [172],\n",
       "         ...,\n",
       "         [ 65],\n",
       "         [117],\n",
       "         [ 59]],\n",
       "\n",
       "        ...,\n",
       "\n",
       "        [[ 67],\n",
       "         [152],\n",
       "         [192],\n",
       "         ...,\n",
       "         [113],\n",
       "         [116],\n",
       "         [ 42]],\n",
       "\n",
       "        [[ 53],\n",
       "         [ 83],\n",
       "         [102],\n",
       "         ...,\n",
       "         [109],\n",
       "         [ 46],\n",
       "         [ 42]],\n",
       "\n",
       "        [[ 36],\n",
       "         [ 73],\n",
       "         [ 95],\n",
       "         ...,\n",
       "         [109],\n",
       "         [ 44],\n",
       "         [ 40]]],\n",
       "\n",
       "\n",
       "       [[[254],\n",
       "         [254],\n",
       "         [107],\n",
       "         ...,\n",
       "         [153],\n",
       "         [ 77],\n",
       "         [146]],\n",
       "\n",
       "        [[254],\n",
       "         [170],\n",
       "         [118],\n",
       "         ...,\n",
       "         [155],\n",
       "         [ 85],\n",
       "         [154]],\n",
       "\n",
       "        [[255],\n",
       "         [178],\n",
       "         [153],\n",
       "         ...,\n",
       "         [165],\n",
       "         [ 82],\n",
       "         [156]],\n",
       "\n",
       "        ...,\n",
       "\n",
       "        [[110],\n",
       "         [  6],\n",
       "         [  1],\n",
       "         ...,\n",
       "         [ 81],\n",
       "         [ 86],\n",
       "         [ 45]],\n",
       "\n",
       "        [[112],\n",
       "         [ 35],\n",
       "         [ 40],\n",
       "         ...,\n",
       "         [ 83],\n",
       "         [ 72],\n",
       "         [ 50]],\n",
       "\n",
       "        [[212],\n",
       "         [ 41],\n",
       "         [ 45],\n",
       "         ...,\n",
       "         [ 77],\n",
       "         [ 66],\n",
       "         [ 29]]],\n",
       "\n",
       "\n",
       "       [[[254],\n",
       "         [255],\n",
       "         [113],\n",
       "         ...,\n",
       "         [152],\n",
       "         [ 77],\n",
       "         [148]],\n",
       "\n",
       "        [[252],\n",
       "         [215],\n",
       "         [107],\n",
       "         ...,\n",
       "         [157],\n",
       "         [ 76],\n",
       "         [152]],\n",
       "\n",
       "        [[255],\n",
       "         [168],\n",
       "         [ 94],\n",
       "         ...,\n",
       "         [165],\n",
       "         [ 80],\n",
       "         [152]],\n",
       "\n",
       "        ...,\n",
       "\n",
       "        [[110],\n",
       "         [ 12],\n",
       "         [ 11],\n",
       "         ...,\n",
       "         [ 81],\n",
       "         [ 88],\n",
       "         [ 51]],\n",
       "\n",
       "        [[111],\n",
       "         [ 38],\n",
       "         [ 39],\n",
       "         ...,\n",
       "         [ 86],\n",
       "         [ 75],\n",
       "         [ 43]],\n",
       "\n",
       "        [[221],\n",
       "         [ 43],\n",
       "         [ 46],\n",
       "         ...,\n",
       "         [ 77],\n",
       "         [ 64],\n",
       "         [ 34]]]], dtype=uint8)"
      ]
     },
     "execution_count": 23,
     "metadata": {},
     "output_type": "execute_result"
    }
   ],
   "source": [
    "test_x"
   ]
  },
  {
   "cell_type": "code",
   "execution_count": 24,
   "metadata": {},
   "outputs": [
    {
     "name": "stdout",
     "output_type": "stream",
     "text": [
      "Training Step: 299  | total loss: 0.09160 | time: 2.281s\n",
      "| Adam | epoch: 050 | loss: 0.09160 - acc: 0.9732 -- iter: 320/380\n",
      "Training Step: 300  | total loss: 0.08263 | time: 3.672s\n",
      "| Adam | epoch: 050 | loss: 0.08263 - acc: 0.9759 | val_loss: 1.12057 - val_acc: 0.8000 -- iter: 380/380\n",
      "--\n"
     ]
    }
   ],
   "source": [
    "model.fit({'input': X}, {'targets': Y}, n_epoch=50, validation_set=({'input': test_x}, {'targets': test_y}), \n",
    "    snapshot_step=20, show_metric=True, run_id=MODEL_NAME)\n",
    "#model.fit({'input': X}, {'targets': Y}, n_epoch=10, snapshot_step=20, show_metric=True, run_id=MODEL_NAME)"
   ]
  },
  {
   "cell_type": "code",
   "execution_count": 25,
   "metadata": {},
   "outputs": [
    {
     "name": "stdout",
     "output_type": "stream",
     "text": [
      "INFO:tensorflow:C:\\Users\\Usha\\Documents\\GitHub\\computervision\\peoplecount-0.001-2conv-basic.model is not in all_model_checkpoint_paths. Manually adding it.\n"
     ]
    }
   ],
   "source": [
    "model.save(MODEL_NAME)"
   ]
  },
  {
   "cell_type": "code",
   "execution_count": 26,
   "metadata": {},
   "outputs": [
    {
     "name": "stderr",
     "output_type": "stream",
     "text": [
      "100%|██████████████████████████████████████████| 18/18 [00:00<00:00, 18.29it/s]\n"
     ]
    },
    {
     "name": "stdout",
     "output_type": "stream",
     "text": [
      "[1.0951514e-03 9.9733460e-01 1.5454615e-03 2.4806306e-05]\n",
      "[0.00101954 0.00129866 0.22565718 0.77202463]\n",
      "[8.5830339e-05 2.1730996e-04 4.0512204e-01 5.9457481e-01]\n",
      "[1.7365500e-02 9.8226261e-01 3.4164428e-04 3.0180870e-05]\n",
      "[1.1870755e-03 9.9748236e-01 1.3079704e-03 2.2547903e-05]\n",
      "[2.8398758e-10 5.4282637e-11 1.0932777e-04 9.9989069e-01]\n",
      "[8.409547e-04 9.986376e-01 5.129138e-04 8.412816e-06]\n",
      "[6.1507330e-06 2.8615762e-04 9.9246138e-01 7.2463159e-03]\n",
      "[1.42829279e-07 2.53332041e-06 8.86399627e-01 1.13597676e-01]\n",
      "[2.9179247e-04 9.9679655e-01 2.8984596e-03 1.3215933e-05]\n",
      "[2.6096703e-04 8.6195207e-05 7.2216806e-03 9.9243116e-01]\n",
      "[1.5223206e-06 1.6139532e-04 9.9714535e-01 2.6917157e-03]\n",
      "[1.7971362e-07 2.4161653e-05 9.9797946e-01 1.9961996e-03]\n",
      "[2.5152619e-18 1.0727836e-12 9.9999988e-01 6.2852337e-08]\n",
      "[3.6028364e-08 5.0009912e-09 6.9984868e-05 9.9993002e-01]\n",
      "[3.1083671e-09 6.6399892e-08 7.9927045e-01 2.0072943e-01]\n",
      "[1.4134890e-02 9.7580898e-01 9.2204744e-03 8.3572365e-04]\n",
      "[9.9076688e-01 8.7855877e-03 2.7112715e-04 1.7637719e-04]\n"
     ]
    }
   ],
   "source": [
    "import matplotlib.pyplot as plt\n",
    "test_data=process_test_data()\n",
    "\n",
    "\n",
    "fig=plt.figure(figsize=(500,500))\n",
    "img_list=[]\n",
    "for num,data in enumerate(test_data):\n",
    "    # cat: [1,0]\n",
    "    # dog: [0,1]\n",
    "    \n",
    "    #img_num = data[1]\n",
    "    img_data = data[0]\n",
    "    #print(img_num)\n",
    "    #y = fig.add_subplot(10,40,num+1)\n",
    "    orig = img_data\n",
    "    data = img_data.reshape(50,50,1)\n",
    "    #model_out = model.predict([data])[0]\n",
    "    model_out = model.predict([data])[0]\n",
    "    print(model_out)\n",
    "    if np.argmax(model_out) == 3: str_label='3'\n",
    "    elif np.argmax(model_out) == 2: str_label='2'\n",
    "    elif np.argmax(model_out) == 1: str_label='1'\n",
    "    else : str_label='0'\n",
    "    img_list.append(str_label)  \n",
    "    #y.imshow(orig,cmap='gray')\n",
    "    #plt.title(str_label)\n",
    "    #y.axes.get_xaxis().set_visible(False)\n",
    "    #y.axes.get_yaxis().set_visible(False)\n",
    "#plt.show()"
   ]
  },
  {
   "cell_type": "code",
   "execution_count": 31,
   "metadata": {
    "collapsed": true
   },
   "outputs": [],
   "source": [
    "import os"
   ]
  },
  {
   "cell_type": "code",
   "execution_count": 32,
   "metadata": {
    "collapsed": true
   },
   "outputs": [],
   "source": [
    "os.chdir('C:\\\\Users\\\\Usha\\\\Downloads')"
   ]
  },
  {
   "cell_type": "code",
   "execution_count": 33,
   "metadata": {},
   "outputs": [],
   "source": [
    "import cv2\n",
    "testpath=\"C:\\\\Users\\\\Usha\\\\Desktop\\\\images\\\\test\\\\\"\n",
    "newpath=\"C:\\\\Users\\\\Usha\\\\Desktop\\\\images\\\\modified\\\\\"\n",
    "\n",
    "\n",
    "\n",
    "for num in enumerate(img_list):\n",
    "    #read image\n",
    "    name='frame'+str(num[0])\n",
    "    name=name+'.jpg'\n",
    "    modname='frame'+str(num[0])\n",
    "    modname=modname+'.jpg'\n",
    "\n",
    "    path1=os.path.join(testpath , name)\n",
    "    path2=os.path.join(newpath , modname)\n",
    "    image=cv2.imread(str(path1))\n",
    "    cv2.putText(image,num[1], (125,125), cv2.FONT_HERSHEY_COMPLEX, 4, (0,0,255),cv2.LINE_AA)\n",
    "    cv2.imwrite(str(path2),image)\n",
    "    #print(num[0])\n"
   ]
  },
  {
   "cell_type": "code",
   "execution_count": null,
   "metadata": {
    "collapsed": true
   },
   "outputs": [],
   "source": []
  }
 ],
 "metadata": {
  "kernelspec": {
   "display_name": "Python 3",
   "language": "python",
   "name": "python3"
  },
  "language_info": {
   "codemirror_mode": {
    "name": "ipython",
    "version": 3
   },
   "file_extension": ".py",
   "mimetype": "text/x-python",
   "name": "python",
   "nbconvert_exporter": "python",
   "pygments_lexer": "ipython3",
   "version": "3.6.3"
  }
 },
 "nbformat": 4,
 "nbformat_minor": 2
}
